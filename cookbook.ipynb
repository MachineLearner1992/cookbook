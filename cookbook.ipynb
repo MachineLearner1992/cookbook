{
 "cells": [
  {
   "cell_type": "code",
   "execution_count": 2,
   "metadata": {},
   "outputs": [],
   "source": [
    "import numpy as np\n",
    "from collections import OrderedDict"
   ]
  },
  {
   "cell_type": "code",
   "execution_count": 11,
   "metadata": {},
   "outputs": [],
   "source": [
    "class Recipe(object):\n",
    "    def __init__(self, standard_recipe_dict: OrderedDict):\n",
    "        self.standard_recipe_dict = standard_recipe_dict\n",
    "        \n",
    "    def show_standard_recipe(self):\n",
    "        for recipe_name, recipe_volume in self.standard_recipe_dict.items():\n",
    "            if recipe_volume is not None:\n",
    "                print('{}: {}g'.format(recipe_name, recipe_volume))\n",
    "            else:\n",
    "                print('{}: 适量'.format(recipe_name))\n",
    "\n",
    "            \n",
    "    def calc_recipe(self, material_name, mass):\n",
    "        # the mass unit of material is g\n",
    "        if material_name in self.standard_recipe_dict:\n",
    "            ratio = mass / self.standard_recipe_dict[material_name]\n",
    "            for recipe_name, recipe_volume in self.standard_recipe_dict.items():\n",
    "                if recipe_volume is not None:\n",
    "                    print('{}: {}g'.format(recipe_name, int(recipe_volume * ratio)))\n",
    "                else:\n",
    "                    print('{}: 适量'.format(recipe_name))\n",
    "        else:\n",
    "            print('输入的材料不在菜单里')"
   ]
  },
  {
   "cell_type": "code",
   "execution_count": null,
   "metadata": {},
   "outputs": [],
   "source": []
  },
  {
   "cell_type": "markdown",
   "metadata": {},
   "source": [
    "# 羊肉手抓饭"
   ]
  },
  {
   "cell_type": "code",
   "execution_count": 4,
   "metadata": {},
   "outputs": [],
   "source": [
    "standard_recipe_dict = OrderedDict()\n",
    "standard_recipe_dict['羊排肉'] = 700\n",
    "standard_recipe_dict['水'] = 700\n",
    "standard_recipe_dict['大米'] = 500\n",
    "standard_recipe_dict['植物油'] = 80\n",
    "standard_recipe_dict['羊油'] = 50\n",
    "standard_recipe_dict['孜然'] = 8\n",
    "standard_recipe_dict['盐'] = 15\n",
    "standard_recipe_dict['大米'] = 500\n",
    "standard_recipe_dict['黄胡萝卜'] = 360\n",
    "standard_recipe_dict['红胡萝卜'] = 120\n",
    "standard_recipe_dict['洋葱'] = 150\n",
    "recipe = Recipe(standard_recipe_dict)"
   ]
  },
  {
   "cell_type": "code",
   "execution_count": 5,
   "metadata": {},
   "outputs": [
    {
     "name": "stdout",
     "output_type": "stream",
     "text": [
      "羊排肉: 700g\n",
      "水: 700g\n",
      "大米: 500g\n",
      "植物油: 80g\n",
      "羊油: 50g\n",
      "孜然: 8g\n",
      "盐: 15g\n",
      "黄胡萝卜: 360g\n",
      "红胡萝卜: 120g\n",
      "洋葱: 150g\n"
     ]
    }
   ],
   "source": [
    "recipe.show_standard_recipe()"
   ]
  },
  {
   "cell_type": "code",
   "execution_count": 6,
   "metadata": {},
   "outputs": [
    {
     "name": "stdout",
     "output_type": "stream",
     "text": [
      "羊排肉: 160g\n",
      "水: 160g\n",
      "大米: 114g\n",
      "植物油: 18g\n",
      "羊油: 11g\n",
      "孜然: 1g\n",
      "盐: 3g\n",
      "黄胡萝卜: 82g\n",
      "红胡萝卜: 27g\n",
      "洋葱: 34g\n"
     ]
    }
   ],
   "source": [
    "recipe.calc_recipe('羊排肉', 160)"
   ]
  },
  {
   "cell_type": "markdown",
   "metadata": {},
   "source": [
    "## 过程：\n",
    "1. **在锅中放入食用油，加入羊油，将羊油烧制出**\n",
    "2. **加入羊排炒至上色，大约2分钟**\n",
    "3. **加入洋葱翻炒2分钟，紧接着加入萝卜进行翻炒，炒至松软，大约3分钟**\n",
    "4. **倒入煮锅，加入孜然和盐，加入水煮15分钟**\n",
    "5. **加入米饭，用筷子插几个洞在米饭上，再煮30分钟即可出锅**"
   ]
  },
  {
   "cell_type": "code",
   "execution_count": null,
   "metadata": {},
   "outputs": [],
   "source": []
  },
  {
   "cell_type": "markdown",
   "metadata": {},
   "source": [
    "# 牛肉汉堡 一个肉饼"
   ]
  },
  {
   "cell_type": "code",
   "execution_count": 7,
   "metadata": {},
   "outputs": [],
   "source": [
    "standard_recipe_dict = OrderedDict()\n",
    "standard_recipe_dict['牛肉'] = 200\n",
    "standard_recipe_dict['盐'] = 5\n",
    "standard_recipe_dict['洋葱'] = 100\n",
    "standard_recipe_dict['鸡蛋'] = 1\n",
    "standard_recipe_dict['酱油'] = 5\n",
    "recipe = Recipe(standard_recipe_dict)"
   ]
  },
  {
   "cell_type": "code",
   "execution_count": 8,
   "metadata": {},
   "outputs": [
    {
     "name": "stdout",
     "output_type": "stream",
     "text": [
      "牛肉: 200g\n",
      "盐: 5g\n",
      "洋葱: 100g\n",
      "鸡蛋: 1g\n",
      "酱油: 5g\n"
     ]
    }
   ],
   "source": [
    "recipe.show_standard_recipe()"
   ]
  },
  {
   "cell_type": "markdown",
   "metadata": {},
   "source": [
    "## 过程：\n",
    "1. **将洋葱和牛肉打碎，混合在一起**\n",
    "2. **锅中倒入油，将牛肉按成饼放入锅中煎第一面，盖上盖子，煎2分钟**\n",
    "3. **将牛肉翻面，盖上盖子，再煎两分钟**\n",
    "4. **将cheese放在牛肉饼上，盖上盖子闷20秒即可出锅**"
   ]
  },
  {
   "cell_type": "code",
   "execution_count": null,
   "metadata": {},
   "outputs": [],
   "source": []
  },
  {
   "cell_type": "markdown",
   "metadata": {},
   "source": [
    "# 黑椒牛肉粒"
   ]
  },
  {
   "cell_type": "code",
   "execution_count": 14,
   "metadata": {},
   "outputs": [],
   "source": [
    "standard_recipe_dict = OrderedDict()\n",
    "standard_recipe_dict['牛肉'] = 200\n",
    "standard_recipe_dict['洋葱'] = 100\n",
    "standard_recipe_dict['青椒'] = 100\n",
    "standard_recipe_dict['大蒜'] = None\n",
    "standard_recipe_dict['盐'] = None\n",
    "standard_recipe_dict['黑胡椒'] = None\n",
    "standard_recipe_dict['酱油'] = 15\n",
    "standard_recipe_dict['糖'] = 7\n",
    "standard_recipe_dict['耗油'] = 10\n",
    "standard_recipe_dict['黄油'] = None\n",
    "standard_recipe_dict['淀粉'] = None\n",
    "\n",
    "recipe = Recipe(standard_recipe_dict)"
   ]
  },
  {
   "cell_type": "code",
   "execution_count": 13,
   "metadata": {},
   "outputs": [
    {
     "name": "stdout",
     "output_type": "stream",
     "text": [
      "牛肉: 200g\n",
      "大蒜: 2g\n",
      "盐: 适量\n",
      "黑胡椒: 适量\n",
      "酱油: 15g\n",
      "糖: 7g\n",
      "耗油: 10g\n",
      "黄油: 适量\n"
     ]
    }
   ],
   "source": [
    "recipe.show_standard_recipe()"
   ]
  },
  {
   "cell_type": "markdown",
   "metadata": {},
   "source": [
    "## 过程：\n",
    "1. **将耗油，酱油，糖，淀粉与较多的黑胡椒混合成酱汁**\n",
    "1. **倒入食用油，用小火将牛肉表面煎上色，每面煎20秒，取出牛肉**\n",
    "2. **开中火，加入黄油，黑胡椒，加入青椒洋葱，翻炒30秒，炒至微微变色**\n",
    "3. **开中火，再次加入牛肉粒，并且加入调好的酱汁，快速翻炒30秒即可出锅**"
   ]
  },
  {
   "cell_type": "code",
   "execution_count": null,
   "metadata": {},
   "outputs": [],
   "source": []
  }
 ],
 "metadata": {
  "kernelspec": {
   "display_name": "Python 3",
   "language": "python",
   "name": "python3"
  },
  "language_info": {
   "codemirror_mode": {
    "name": "ipython",
    "version": 3
   },
   "file_extension": ".py",
   "mimetype": "text/x-python",
   "name": "python",
   "nbconvert_exporter": "python",
   "pygments_lexer": "ipython3",
   "version": "3.6.4"
  }
 },
 "nbformat": 4,
 "nbformat_minor": 2
}
